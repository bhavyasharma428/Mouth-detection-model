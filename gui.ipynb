{
 "cells": [
  {
   "cell_type": "code",
   "execution_count": 2,
   "id": "84f23528",
   "metadata": {},
   "outputs": [],
   "source": [
    "\n"
   ]
  },
  {
   "cell_type": "code",
   "execution_count": 1,
   "id": "ae5cfc64",
   "metadata": {},
   "outputs": [
    {
     "name": "stderr",
     "output_type": "stream",
     "text": [
      "C:\\Users\\dell\\AppData\\Local\\Temp\\ipykernel_9228\\1886263379.py:28: DeprecationWarning: ANTIALIAS is deprecated and will be removed in Pillow 10 (2023-07-01). Use LANCZOS or Resampling.LANCZOS instead.\n",
      "  img = img.resize((300, 300), Image.ANTIALIAS)  # Resize the image for display\n"
     ]
    }
   ],
   "source": [
    "import cv2\n",
    "import numpy as np\n",
    "import joblib\n",
    "import tkinter as tk\n",
    "from tkinter import filedialog\n",
    "from PIL import Image, ImageTk\n",
    "\n",
    "# Loading the trained SVM model\n",
    "model_filename = \"mouth_detection_model.dat\"\n",
    "clf = joblib.load(model_filename)\n",
    "\n",
    "# Function to predict mouth state (open/closed) for a given image\n",
    "def predict_mouth_state(image_path):\n",
    "    img = cv2.imread(image_path, cv2.IMREAD_GRAYSCALE)\n",
    "    img = cv2.resize(img, (50, 50))  \n",
    "    feature_vector = img.flatten()\n",
    "    prediction = clf.predict([feature_vector])\n",
    "    label_mapping_reverse = {2768: \"mouth closed\", 2759: \"mouth open\"}\n",
    "    predicted_label = label_mapping_reverse[prediction[0]]\n",
    "    return predicted_label\n",
    "\n",
    "# Function to handle button click event\n",
    "def on_button_click():\n",
    "    file_path = filedialog.askopenfilename(title=\"Select an image\", filetypes=[(\"Image files\", \"*.png;*.jpg;*.jpeg\")])\n",
    "    if file_path:\n",
    "        # Display the selected image\n",
    "        img = Image.open(file_path)\n",
    "        img = img.resize((300, 300), Image.ANTIALIAS)  \n",
    "        img_tk = ImageTk.PhotoImage(img)\n",
    "        image_label.config(image=img_tk)\n",
    "        image_label.image = img_tk\n",
    "\n",
    "        # Make a prediction\n",
    "        prediction_result = predict_mouth_state(file_path)\n",
    "        result_label.config(text=f\"Mouth state: {prediction_result}\")\n",
    "\n",
    "# main window\n",
    "window = tk.Tk()\n",
    "window.title(\"Mouth State Detection\")\n",
    "window.geometry(\"500x400\")  \n",
    "\n",
    "# configure widgets\n",
    "upload_button = tk.Button(window, text=\"Upload Image\", command=on_button_click)\n",
    "result_label = tk.Label(window, text=\"Mouth state: \")\n",
    "image_label = tk.Label(window)\n",
    "\n",
    "# Place widgets in the window\n",
    "upload_button.pack(pady=20)\n",
    "result_label.pack()\n",
    "image_label.pack()\n",
    "\n",
    "# Start the GUI event loop\n",
    "window.mainloop()\n"
   ]
  },
  {
   "cell_type": "code",
   "execution_count": null,
   "id": "16811284",
   "metadata": {},
   "outputs": [],
   "source": []
  }
 ],
 "metadata": {
  "kernelspec": {
   "display_name": "Python 3 (ipykernel)",
   "language": "python",
   "name": "python3"
  },
  "language_info": {
   "codemirror_mode": {
    "name": "ipython",
    "version": 3
   },
   "file_extension": ".py",
   "mimetype": "text/x-python",
   "name": "python",
   "nbconvert_exporter": "python",
   "pygments_lexer": "ipython3",
   "version": "3.11.5"
  }
 },
 "nbformat": 4,
 "nbformat_minor": 5
}
